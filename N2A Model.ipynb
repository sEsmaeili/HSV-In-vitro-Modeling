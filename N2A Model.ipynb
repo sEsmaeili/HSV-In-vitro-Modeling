{
 "cells": [
  {
   "cell_type": "code",
   "execution_count": 1,
   "id": "5b72029d",
   "metadata": {},
   "outputs": [],
   "source": [
    "import scipy.integrate as spi\n",
    "from scipy.integrate import odeint\n",
    "from array import *\n",
    "from scipy.optimize import curve_fit\n",
    "from statistics import mean\n",
    "import numpy as np\n",
    "import seaborn as sns\n",
    "import matplotlib.pyplot as plt\n",
    "import pandas as pd\n",
    "#from ipynb.fs.full.HSV_Dyn_Functions import GetIndParams\n",
    "#from ipynb.fs.full.HSV_Dyn_Functions import Vir_Dyn\n",
    "#from ipynb.fs.full.HSV_Dyn_Functions import Vir_Dyn_IS\n",
    "#from ipynb.fs.full.HSV_Dyn_Functions import Vir_Dyn_DDD\n",
    "#from ipynb.fs.full.HSV_Dyn_Functions import RunSimulation\n",
    "#from ipynb.fs.full.HSV_Dyn_Functions import RunSimulation_DD\n",
    "#from ipynb.fs.full.HSV_Dyn_Functions import Plotting\n",
    "%matplotlib inline"
   ]
  },
  {
   "cell_type": "code",
   "execution_count": 2,
   "id": "0f3061b3",
   "metadata": {},
   "outputs": [],
   "source": [
    "def GetIndParams(Indparameters, ID, style = 'mode'):\n",
    "    ''' \n",
    "    input:\n",
    "        - data frame with parameter values as columns, individuals as rows\n",
    "        - ID identifying individual of interest\n",
    "        - style = 'mode' or 'mean' or 'SAEM' depending on which parameter values are preferred\n",
    "    return:\n",
    "        - dictionary with parameter names as key and parameter values as values\n",
    "    '''\n",
    "    i = ID\n",
    "    cols = list(Indparameters)\n",
    "    pid_params = Indparameters[Indparameters.id == i]\n",
    "  #  print(pid_params)\n",
    "    values = []\n",
    "    keys = []\n",
    "    for c in cols:\n",
    "        if style in c:\n",
    "            k = c.split('_')[0]\n",
    "            keys.append(k)\n",
    "            v = pid_params[c].values[0]\n",
    "            values.append(v)\n",
    "        for i,(v,k) in enumerate(zip(values, keys)):\n",
    "            if 'log10' in k:\n",
    "                values[i] = 10**v\n",
    "                keys[i] = k.split('0')[1]\n",
    "    if 'alpha' in keys:\n",
    "        i = keys.index('alpha')\n",
    "        j = keys.index('kPL')\n",
    "        values[j] = values[j]*dose**values[i]\n",
    "\n",
    "    params = dict(zip(keys, values))\n",
    "    return params"
   ]
  },
  {
   "cell_type": "code",
   "execution_count": 3,
   "id": "e48bddec",
   "metadata": {},
   "outputs": [],
   "source": [
    "def RunSimulation_Szero(Vir_Dyn, Data, Indparameters, param_order, id, C_Tot, nk, N, VCell0, VSup0):\n",
    "    Params_dict = GetIndParams(Indparameters, id, style = 'mode')\n",
    "    print(Params_dict)\n",
    "    params = []\n",
    "    for k in param_order:\n",
    "        params.append(Params_dict[k])\n",
    "    params.append(nk)\n",
    "    print(params)\n",
    "    MOI = Data[Data.ID == id].MOI.unique()[0]\n",
    "    Init = Params_dict['Szero'], C_Tot-Params_dict['Szero']\n",
    "    for i in range(1,nk):\n",
    "        Init = np.append(Init, 0)\n",
    "    Init = np.append(Init, [0, VCell0, VSup0])\n",
    "\n",
    "    #print(Init)\n",
    "    t = np.linspace(0, max(Data.time), N)\n",
    "    y = spi.odeint(Vir_Dyn, Init, t, args = tuple(params))  \n",
    "    return y.T"
   ]
  },
  {
   "cell_type": "code",
   "execution_count": 4,
   "id": "bea1815d",
   "metadata": {},
   "outputs": [],
   "source": [
    "def Vir_Dyn_betaSup0(y,t, betaCell, piCell, D, k, gamma, nk):\n",
    "    dY = np.zeros(nk+4);\n",
    "    E = np.zeros(nk)\n",
    "    S = y[0]\n",
    "    for i in range(1, nk+1):\n",
    "        E[i-1] = y[i]\n",
    "    I = y[nk+1]\n",
    "    V_Cell = y[nk+2]\n",
    "    V_Sup = y[nk+3]\n",
    "\n",
    "    dY[0] = -betaCell*V_Cell*S\n",
    "    dY[1] = betaCell*V_Cell*S - k*E[0]\n",
    "    for i in range(2, nk+1):\n",
    "        dY[i] = k*(E[i-2]-E[i-1])\n",
    "    dY[nk+1] = k*E[nk-1]\n",
    "    dY[nk+2] = piCell*I - D*V_Cell\n",
    "    dY[nk+3] = D*V_Cell - gamma*V_Sup\n",
    "    \n",
    "    \n",
    "    return dY"
   ]
  },
  {
   "cell_type": "code",
   "execution_count": 5,
   "id": "be33a480",
   "metadata": {},
   "outputs": [
    {
     "name": "stdout",
     "output_type": "stream",
     "text": [
      "      ID  time       qPCR_1       qPCR_2       AveqPCR  log10_AverPCR ObsID  \\\n",
      "0   High     1     18139950     35286890  2.671342e+07       7.426729  Cell   \n",
      "1   High     6     32230590    246662185  1.394464e+08       8.144407  Cell   \n",
      "2   High    12   2480987500    242700325  1.361844e+09       9.134127  Cell   \n",
      "3   High    24   3082558000   5958479500  4.520519e+09       9.655188  Cell   \n",
      "4   High    30   7646697500   9385589000  8.516143e+09       9.930243  Cell   \n",
      "5   High    36   6342647500  45484300000  2.591347e+10      10.413526  Cell   \n",
      "6   High    48   8303655000  48288920000  2.829629e+10      10.451729  Cell   \n",
      "7   High    60  11858607000  12306976000  1.208279e+10      10.082167  Cell   \n",
      "8   High     1      1660260      5280040  3.470150e+06       6.540348   Sup   \n",
      "9   High     6     43937195     55848625  4.989291e+07       7.698039   Sup   \n",
      "10  High    12      6657745     67798715  3.722823e+07       7.570872   Sup   \n",
      "11  High    24    279258590    227662965  2.534608e+08       8.403911   Sup   \n",
      "12  High    30    547437250    544953560  5.461954e+08       8.737348   Sup   \n",
      "13  High    36    556219560    635657185  5.959384e+08       8.775201   Sup   \n",
      "14  High    48   2300770500   2094934500  2.197852e+09       9.341999   Sup   \n",
      "15  High    60   6372876000   3069117250  4.720997e+09       9.674034   Sup   \n",
      "16   Low     1      1092695      1494000  1.293348e+06       6.111715  Cell   \n",
      "17   Low     6      5577880      6837950  6.207915e+06       6.792946  Cell   \n",
      "18   Low    12     35425715     33094625  3.426017e+07       7.534790  Cell   \n",
      "19   Low    24     36503885     37429755  3.696682e+07       7.567812  Cell   \n",
      "20   Low    30    127147255    170318230  1.487327e+08       8.172407  Cell   \n",
      "21   Low    36    370891435   1320170625  8.455310e+08       8.927130  Cell   \n",
      "22   Low    48   1447143875   1923127000  1.685135e+09       9.226635  Cell   \n",
      "23   Low    60    329399965   4664694000  2.497047e+09       9.397427  Cell   \n",
      "24   Low    72    461769250   5216447000  2.839108e+09       9.453182  Cell   \n",
      "25   Low    84  16630648000   1061493875  8.846071e+09       9.946750  Cell   \n",
      "26   Low    96  16747397000   1435966875  9.091682e+09       9.958644  Cell   \n",
      "27   Low   108  37116476000  54377728000  4.574710e+10      10.660364  Cell   \n",
      "28   Low   122  14936764000   7155909000  1.104634e+10      10.043218  Cell   \n",
      "29   Low   146   8536084000   8371636000  8.453860e+09       9.927055  Cell   \n",
      "30   Low     1        68390        71110  6.975000e+04       4.843544   Sup   \n",
      "31   Low     6       894800      1430380  1.162590e+06       6.065427   Sup   \n",
      "32   Low    12      1834885      2217470  2.026178e+06       6.306677   Sup   \n",
      "33   Low    24      5287820     13736085  9.511952e+06       6.978270   Sup   \n",
      "34   Low    30     16225090     10377110  1.330110e+07       7.123888   Sup   \n",
      "35   Low    36     13505380     17116050  1.531072e+07       7.184995   Sup   \n",
      "36   Low    48     77107285     73917125  7.551220e+07       7.878017   Sup   \n",
      "37   Low    60    134495700    104067420  1.192816e+08       8.076573   Sup   \n",
      "38   Low    72    152447030    108372215  1.304096e+08       8.115310   Sup   \n",
      "39   Low    84     96717230     79626630  8.817193e+07       7.945330   Sup   \n",
      "40   Low    96    209857265    138959625  1.744084e+08       8.241568   Sup   \n",
      "41   Low   108    788970250   1666964500  1.227967e+09       9.089187   Sup   \n",
      "42   Low   122   1416893125   1491188125  1.454041e+09       9.162577   Sup   \n",
      "43   Low   146   5542751000   6275717500  5.909234e+09       9.771531   Sup   \n",
      "\n",
      "    MOI       Cell0     Sup0  \n",
      "0   3.0  26713420.0  3470150  \n",
      "1   3.0  26713420.0  3470150  \n",
      "2   3.0  26713420.0  3470150  \n",
      "3   3.0  26713420.0  3470150  \n",
      "4   3.0  26713420.0  3470150  \n",
      "5   3.0  26713420.0  3470150  \n",
      "6   3.0  26713420.0  3470150  \n",
      "7   3.0  26713420.0  3470150  \n",
      "8   3.0  26713420.0  3470150  \n",
      "9   3.0  26713420.0  3470150  \n",
      "10  3.0  26713420.0  3470150  \n",
      "11  3.0  26713420.0  3470150  \n",
      "12  3.0  26713420.0  3470150  \n",
      "13  3.0  26713420.0  3470150  \n",
      "14  3.0  26713420.0  3470150  \n",
      "15  3.0  26713420.0  3470150  \n",
      "16  0.1   1293347.5    69750  \n",
      "17  0.1   1293347.5    69750  \n",
      "18  0.1   1293347.5    69750  \n",
      "19  0.1   1293347.5    69750  \n",
      "20  0.1   1293347.5    69750  \n",
      "21  0.1   1293347.5    69750  \n",
      "22  0.1   1293347.5    69750  \n",
      "23  0.1   1293347.5    69750  \n",
      "24  0.1   1293347.5    69750  \n",
      "25  0.1   1293347.5    69750  \n",
      "26  0.1   1293347.5    69750  \n",
      "27  0.1   1293347.5    69750  \n",
      "28  0.1   1293347.5    69750  \n",
      "29  0.1   1293347.5    69750  \n",
      "30  0.1   1293347.5    69750  \n",
      "31  0.1   1293347.5    69750  \n",
      "32  0.1   1293347.5    69750  \n",
      "33  0.1   1293347.5    69750  \n",
      "34  0.1   1293347.5    69750  \n",
      "35  0.1   1293347.5    69750  \n",
      "36  0.1   1293347.5    69750  \n",
      "37  0.1   1293347.5    69750  \n",
      "38  0.1   1293347.5    69750  \n",
      "39  0.1   1293347.5    69750  \n",
      "40  0.1   1293347.5    69750  \n",
      "41  0.1   1293347.5    69750  \n",
      "42  0.1   1293347.5    69750  \n",
      "43  0.1   1293347.5    69750  \n",
      "['High' 'Low']\n"
     ]
    }
   ],
   "source": [
    "data_file = r'/Users/sesmaeil/Library/CloudStorage/OneDrive-FredHutchinsonCancerResearchCenter/HSV cell culture kinetics/Projects/Data/Marius Data/qPCR_Time_course_N2A.csv'\n",
    "\n",
    "\n",
    "Data = pd.read_csv(data_file)\n",
    "\n",
    "IDs = Data.ID.unique()\n",
    "print(Data)\n",
    "print(IDs)"
   ]
  },
  {
   "cell_type": "code",
   "execution_count": 7,
   "id": "00450a4a",
   "metadata": {},
   "outputs": [
    {
     "name": "stdout",
     "output_type": "stream",
     "text": [
      "     id  piCell_SAEM    D_SAEM  gamma_SAEM  log10betaCell_SAEM  kappa_SAEM  \\\n",
      "0  High      1039.35  0.008270        0.04            -11.0259    0.023914   \n",
      "1   Low      1038.42  0.008139        0.04            -11.0267    0.023900   \n",
      "\n",
      "   Szero_SAEM  piCell_mean    D_mean  gamma_mean  ...  log10betaCell_mode  \\\n",
      "0     11867.1      1041.74  0.008260        0.04  ...            -11.0244   \n",
      "1    973980.0      1040.01  0.008181        0.04  ...            -11.0247   \n",
      "\n",
      "   kappa_mode  Szero_mode  piCell_sd      D_sd  gamma_sd  log10betaCell_sd  \\\n",
      "0    0.023762     11869.3    29.6774  0.000441         0          0.031761   \n",
      "1    0.023748    974109.0    28.3118  0.000436         0          0.031375   \n",
      "\n",
      "   kappa_sd  Szero_sd  MOI  \n",
      "0  0.000681   10.8844  3.0  \n",
      "1  0.000644  898.3680  0.1  \n",
      "\n",
      "[2 rows x 26 columns]\n"
     ]
    }
   ],
   "source": [
    "Indparameters_file_nk_1_betaSup0 = r'/Users/sesmaeil/Library/CloudStorage/OneDrive-FredHutchinsonCancerResearchCenter/HSV cell culture kinetics/Projects/N2A/HSV_Regressor_AVE_qPCR_N2A_deltaI=0_InitfrmData_nk=1_betaSup0_extExplor/IndividualParameters/estimatedIndividualParameters.txt'\n",
    "\n",
    "\n",
    "Indparameters_Lin01 = pd.read_csv(Indparameters_file_nk_1_betaSup0)\n",
    "print(Indparameters_Lin01)\n",
    "#i = Data.ID == 'High1'\n",
    "#j= Data.ObsID == 'Cell'\n",
    "#print(Data[(Data.ID == 'Low1') & (Data.ObsID == 'Cell')].moi.unique())\n",
    "#print(Data[Data.ID.index == 'High1' & Data.ObsID.index == 'Cell'].qPCR)"
   ]
  },
  {
   "cell_type": "code",
   "execution_count": 8,
   "id": "9692ee5a",
   "metadata": {},
   "outputs": [
    {
     "name": "stdout",
     "output_type": "stream",
     "text": [
      "{'piCell': 1040.95, 'D': 0.00825771, 'gamma': 0.04, 'betaCell': 9.453660459579653e-12, 'kappa': 0.0237623, 'Szero': 11869.3}\n",
      "[9.453660459579653e-12, 1040.95, 0.00825771, 0.0237623, 0.04, 1]\n",
      "{'piCell': 1039.62, 'D': 0.00814856, 'gamma': 0.04, 'betaCell': 9.447132357271376e-12, 'kappa': 0.0237477, 'Szero': 974109.0}\n",
      "[9.447132357271376e-12, 1039.62, 0.00814856, 0.0237477, 0.04, 1]\n"
     ]
    }
   ],
   "source": [
    "param_order = ['betaCell', 'piCell', 'D', 'kappa', 'gamma']\n",
    "C_Tot = 1000000\n",
    "nk = 1\n",
    "N = 10000 #timesteps\n",
    "#i = 1\n",
    "E_01 = np.zeros((len(IDs),nk, N))\n",
    "for id, idi in zip(IDs, range(0,len(IDs))):\n",
    "    VCell0 = float(Data[(Data.ID == id) & \n",
    "                                 (Data.time == 1) & \n",
    "                                 (Data.ObsID == 'Cell')].AveqPCR)\n",
    "\n",
    "    VSup0 = float(Data[(Data.ID == id) & \n",
    "                                 (Data.time == 1) & \n",
    "                                 (Data.ObsID == 'Sup')].AveqPCR)\n",
    "\n",
    "    y = RunSimulation_Szero(Vir_Dyn_betaSup0, Data, Indparameters_Lin01, param_order, id, C_Tot, nk, N,VCell0, VSup0)\n",
    "\n",
    "    if id == IDs[0]:\n",
    "        S_01 = y[0,:]\n",
    "        for i in range(1, nk+1):\n",
    "            E_01[idi,i-1,:] = y[i,:]\n",
    "        I_01 = y[nk+1,:]\n",
    "        V_Cell_01 = y[nk+2,:]\n",
    "        V_Sup_01 = y[nk+3,:]\n",
    "\n",
    "        \n",
    "    else:\n",
    "        S_01 = np.vstack((S_01,y[0,:]))\n",
    "        for i in range(1, nk+1):\n",
    "            E_01[idi,i-1,:] = y[i,:]\n",
    "        I_01 = np.vstack((I_01,y[nk+1,:]))\n",
    "        V_Cell_01 = np.vstack((V_Cell_01,y[nk+2,:]))\n",
    "        V_Sup_01 = np.vstack((V_Sup_01,y[nk+3,:]))\n"
   ]
  },
  {
   "cell_type": "code",
   "execution_count": 9,
   "id": "cad24a86",
   "metadata": {},
   "outputs": [
    {
     "data": {
      "text/plain": [
       "array([9.74109000e+05, 9.74108826e+05, 9.74108652e+05, ...,\n",
       "       1.28653642e+02, 1.28147639e+02, 1.27643483e+02])"
      ]
     },
     "execution_count": 9,
     "metadata": {},
     "output_type": "execute_result"
    }
   ],
   "source": [
    "S_01[1]"
   ]
  },
  {
   "cell_type": "code",
   "execution_count": 10,
   "id": "8a919e48",
   "metadata": {},
   "outputs": [
    {
     "name": "stderr",
     "output_type": "stream",
     "text": [
      "No artists with labels found to put in legend.  Note that artists whose label start with an underscore are ignored when legend() is called with no argument.\n"
     ]
    },
    {
     "data": {
      "image/png": "[encoded data removed]",
      "text/plain": [
       "<Figure size 504x360 with 4 Axes>"
      ]
     },
     "metadata": {
      "needs_background": "light"
     },
     "output_type": "display_data"
    }
   ],
   "source": [
    "fig = plt.figure(figsize = (7,5))\n",
    "plt.rcParams.update({'font.size': 12})\n",
    "for id, idi in zip(IDs, range(0,len(IDs))):\n",
    "    t_Celldata = Data[(Data.ID == id) & (Data.ObsID == 'Cell')].time\n",
    "    temp = Data[(Data.ID == id) & (Data.ObsID == 'Cell')].log10_AverPCR\n",
    "    y_Cell_1_PCR = Data[(Data.ID == id) & (Data.ObsID == 'Cell')].qPCR_1\n",
    "    y_Cell_2_PCR = Data[(Data.ID == id) & (Data.ObsID == 'Cell')].qPCR_2\n",
    "    y_Celldata = [float(y) for y in temp]\n",
    "    #print(temp)\n",
    "    t_Supdata = Data[(Data.ID == id) & (Data.ObsID == 'Sup')].time\n",
    "    temp = Data[(Data.ID == id) & (Data.ObsID == 'Sup')].log10_AverPCR\n",
    "    y_Sup_1_PCR = Data[(Data.ID == id) & (Data.ObsID == 'Sup')].qPCR_1\n",
    "    y_Sup_2_PCR = Data[(Data.ID == id) & (Data.ObsID == 'Sup')].qPCR_2\n",
    "    y_Supdata = [float(y) for y in temp]    \n",
    "\n",
    "    t = np.linspace(0, max(Data.time), N)\n",
    "    plt.subplot(2,2,idi+1)\n",
    "    plt.plot(t_Celldata.values, np.log10(y_Cell_1_PCR),'o', alpha = 0.2,  color = 'xkcd:off blue')\n",
    "    plt.plot(t_Celldata.values, np.log10(y_Cell_2_PCR),'o', alpha = 0.2,  color = 'xkcd:off blue')\n",
    "    plt.plot(t_Celldata.values, y_Celldata,'o', color = 'xkcd:off blue', label = 'viral DNA data')\n",
    "\n",
    "    plt.plot(t,np.log10(V_Cell_01[idi,:]), label = 'Model', color = 'xkcd:off blue')\n",
    "   \n",
    "    if id=='High':\n",
    "        plt.title('MOI=3')\n",
    "    else:\n",
    "        plt.title('MOI=0.1')\n",
    "    if idi ==0:\n",
    "        plt.ylabel('$log_{10}(V_{Cell})$')\n",
    "        plt.legend()\n",
    "    plt.ylim([3, 12])\n",
    "    plt.xticks(np.linspace(0,150,7))\n",
    "    plt.subplot(2,2,idi+3)\n",
    "    plt.plot(t_Supdata.values, np.log10(y_Sup_1_PCR),'o', alpha = 0.2,  color = 'xkcd:burgundy')\n",
    "    plt.plot(t_Supdata.values, np.log10(y_Sup_2_PCR),'o', alpha = 0.2,  color = 'xkcd:burgundy')\n",
    "    plt.plot(t_Supdata.values, y_Supdata,'o', color = 'xkcd:burgundy')\n",
    "\n",
    "    plt.plot(t,np.log10(V_Sup_01[idi,:]),color = 'xkcd:burgundy')\n",
    "  \n",
    "    if idi ==0:\n",
    "        plt.ylabel('$log_{10}(V_{Sup})$')\n",
    "        plt.legend()\n",
    "    plt.ylim([3, 12])\n",
    "    plt.xticks(np.linspace(0,150,7))\n",
    "plt.tight_layout()\n",
    "#plt.savefig('Figures/FittoAve_nk=1VS3.svg')\n",
    "#plt.savefig('Figures/FittoAve_nk=1VS3.png')"
   ]
  },
  {
   "cell_type": "code",
   "execution_count": 11,
   "id": "a0db1023",
   "metadata": {},
   "outputs": [
    {
     "data": {
      "image/png": "[encoded data removed]",
      "text/plain": [
       "<Figure size 576x360 with 1 Axes>"
      ]
     },
     "metadata": {
      "needs_background": "light"
     },
     "output_type": "display_data"
    }
   ],
   "source": [
    "AIC_File = r'/Users/sesmaeil/Library/CloudStorage/OneDrive-FredHutchinsonCancerResearchCenter/HSV cell culture kinetics/Projects/N2A/HSVModelAIC_2VirComp.csv'\n",
    "AIC_DF = pd.read_csv(AIC_File)\n",
    "#print(AIC_DF[AIC_DF.Model=='DD Diff'])\n",
    "#print(AIC_DF[AIC_DF.Model=='Linear Diff'])\n",
    "fig = plt.figure(figsize = (8,5))\n",
    "plt.rcParams.update({'font.size': 15})\n",
    "#plt.subplot(2,1,1)\n",
    "ax = sns.stripplot(data = AIC_DF[AIC_DF.Model=='Linear Diff'], x = 'n', y = \"AIC\")\n",
    "ax = sns.boxplot(data = AIC_DF[AIC_DF.Model=='Linear Diff'], x = 'n', y = \"AIC\")\n",
    "#for p in ax.patches:\n",
    "#    mybox =p\n",
    "#    color = mybox.get_facecolor()\n",
    "#    mybox.set_facecolor((0, 0, 0, 0))\n",
    "   # mybox.set_edgecolor('black')\n",
    "#plt.ylim([10,75])\n",
    "#plt.title('Constant Egress Rate')\n",
    "#plt.subplot(2,1,2)\n",
    "\n",
    "for p in ax.patches:\n",
    "    mybox =p\n",
    "    color = mybox.get_facecolor()\n",
    "    mybox.set_facecolor((0, 0, 0, 0))\n",
    "#plt.title('Density-Dependent Egress Rate')\n",
    "#plt.ylim([11,18])\n",
    "#plt.tight_layout()\n",
    "#plt.savefig()"
   ]
  },
  {
   "cell_type": "code",
   "execution_count": 15,
   "id": "a26d3fd5",
   "metadata": {},
   "outputs": [
    {
     "name": "stderr",
     "output_type": "stream",
     "text": [
      "/var/folders/z2/v4k5h92d3x34xw1wf5f8b_nh0000gp/T/ipykernel_24881/3587120383.py:11: UserWarning: Attempted to set non-positive bottom ylim on a log-scaled axis.\n",
      "Invalid limit will be ignored.\n",
      "  plt.ylim([0, 1500000])\n",
      "/var/folders/z2/v4k5h92d3x34xw1wf5f8b_nh0000gp/T/ipykernel_24881/3587120383.py:19: UserWarning: Attempted to set non-positive bottom ylim on a log-scaled axis.\n",
      "Invalid limit will be ignored.\n",
      "  plt.ylim([0, 1500000])\n",
      "/var/folders/z2/v4k5h92d3x34xw1wf5f8b_nh0000gp/T/ipykernel_24881/3587120383.py:26: UserWarning: Attempted to set non-positive bottom ylim on a log-scaled axis.\n",
      "Invalid limit will be ignored.\n",
      "  plt.ylim([0, 1500000])\n",
      "/var/folders/z2/v4k5h92d3x34xw1wf5f8b_nh0000gp/T/ipykernel_24881/3587120383.py:11: UserWarning: Attempted to set non-positive bottom ylim on a log-scaled axis.\n",
      "Invalid limit will be ignored.\n",
      "  plt.ylim([0, 1500000])\n",
      "/var/folders/z2/v4k5h92d3x34xw1wf5f8b_nh0000gp/T/ipykernel_24881/3587120383.py:19: UserWarning: Attempted to set non-positive bottom ylim on a log-scaled axis.\n",
      "Invalid limit will be ignored.\n",
      "  plt.ylim([0, 1500000])\n",
      "/var/folders/z2/v4k5h92d3x34xw1wf5f8b_nh0000gp/T/ipykernel_24881/3587120383.py:26: UserWarning: Attempted to set non-positive bottom ylim on a log-scaled axis.\n",
      "Invalid limit will be ignored.\n",
      "  plt.ylim([0, 1500000])\n"
     ]
    },
    {
     "data": {
      "image/png": "[encoded data removed]",
      "text/plain": [
       "<Figure size 936x324 with 3 Axes>"
      ]
     },
     "metadata": {
      "needs_background": "light"
     },
     "output_type": "display_data"
    }
   ],
   "source": [
    "fig = plt.figure(figsize = (13,4.5))\n",
    "plt.rcParams.update({'font.size': 15})\n",
    "color = ['darkgreen', 'yellowgreen']\n",
    "for id, idi in zip(IDs, range(0,len(IDs))):\n",
    "   \n",
    "\n",
    "    t = np.linspace(0, max(Data.time), N)\n",
    "    plt.subplot(1,3,1)\n",
    "    plt.semilogy(t,np.maximum(S_01[idi,:],1), linewidth = 2, color = color[idi])\n",
    "    plt.ylabel('Suceptible Cells')\n",
    "    plt.ylim([0, 1500000])\n",
    "    plt.yticks([1,10,100,1000,10000,100000, 1000000])\n",
    "    plt.xticks(np.linspace(0,150,7))\n",
    "    \n",
    "    plt.subplot(1,3,2)\n",
    "    plt.semilogy(t,np.maximum(E_01[idi,0, :],1), linewidth = 2, color = color[idi])\n",
    "    plt.ylabel('Eclipse Cells')\n",
    "    plt.xticks(np.linspace(0,150,7))\n",
    "    plt.ylim([0, 1500000])\n",
    "    plt.yticks([1,10,100,1000,10000,100000, 1000000])\n",
    "    plt.xlabel('time(hrs)')\n",
    "\n",
    "    plt.subplot(1,3,3)\n",
    "    plt.semilogy(t,np.maximum(I_01[idi, :],1), linewidth = 2, color = color[idi], label = str(id)+ ' MOI')\n",
    "    plt.ylabel('Productively Infected Cells')\n",
    "    plt.ylim([0, 1500000])\n",
    "    plt.yticks([1,10,100,1000,10000,100000, 1000000])\n",
    "    plt.xticks(np.linspace(0,150,7))\n",
    "    \n",
    "plt.legend(bbox_to_anchor=(1, 0.5))\n",
    "plt.tight_layout()\n"
   ]
  },
  {
   "cell_type": "code",
   "execution_count": null,
   "id": "4f9e29f9",
   "metadata": {},
   "outputs": [],
   "source": []
  }
 ],
 "metadata": {
  "kernelspec": {
   "display_name": "Python 3 (ipykernel)",
   "language": "python",
   "name": "python3"
  },
  "language_info": {
   "codemirror_mode": {
    "name": "ipython",
    "version": 3
   },
   "file_extension": ".py",
   "mimetype": "text/x-python",
   "name": "python",
   "nbconvert_exporter": "python",
   "pygments_lexer": "ipython3",
   "version": "3.9.12"
  }
 },
 "nbformat": 4,
 "nbformat_minor": 5
}
