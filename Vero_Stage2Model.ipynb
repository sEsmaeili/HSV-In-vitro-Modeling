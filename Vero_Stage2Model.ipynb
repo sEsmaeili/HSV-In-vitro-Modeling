{
 "cells": [
  {
   "cell_type": "code",
   "execution_count": 2,
   "id": "38a39f02",
   "metadata": {},
   "outputs": [],
   "source": [
    "import numpy as np\n",
    "from scipy.integrate import odeint\n",
    "#from scipy.optimize import minimize\n",
    "import matplotlib.pyplot as plt\n",
    "import pandas as pd\n",
    "from array import *\n",
    "from statistics import mean\n",
    "from lmfit import minimize, Parameters, Parameter, report_fit\n",
    "import random"
   ]
  },
  {
   "cell_type": "code",
   "execution_count": 3,
   "id": "09dbf243",
   "metadata": {},
   "outputs": [
    {
     "name": "stdout",
     "output_type": "stream",
     "text": [
      "     ID  time     PFU_1     PFU_2     PFU_3      Aver_PFU  log10AvePFU ObsID  \\\n",
      "0  High     6      4100      1800      2200  2.700000e+03     3.431364   Sup   \n",
      "1  High    12     22500     13000     10000  1.516667e+04     4.180890   Sup   \n",
      "2  High    24    455000    445000    390000  4.300000e+05     5.633468   Sup   \n",
      "3  High     6      3450      3600      2850  3.300000e+03     3.518514  Cell   \n",
      "4  High    12   2200000   1500000   1700000  1.800000e+06     6.255273  Cell   \n",
      "5  High    24  21500000  14500000  20500000  1.883333e+07     7.274927  Cell   \n",
      "\n",
      "   MOI  \n",
      "0    3  \n",
      "1    3  \n",
      "2    3  \n",
      "3    3  \n",
      "4    3  \n",
      "5    3  \n",
      "['High']\n"
     ]
    }
   ],
   "source": [
    "data_file_Vero = r'/Users/sesmaeil/Library/CloudStorage/OneDrive-FredHutchinsonCancerResearchCenter/HSV cell culture kinetics/Projects/Data/Marius Data/Time course AvePA.csv'\n",
    "\n",
    "Data_Vero = pd.read_csv(data_file_Vero)\n",
    "print(Data_Vero)\n",
    "IDs_Vero = Data_Vero.ID.unique()\n",
    "print(IDs_Vero)"
   ]
  },
  {
   "cell_type": "code",
   "execution_count": 3,
   "id": "35d251e4",
   "metadata": {},
   "outputs": [],
   "source": [
    "def Vir_Dyn_DDD_perI(y,t, betaSup, betaCell, piCell, D, k, deltaI, gamma, K, nk):\n",
    "    dY = np.zeros(nk+4);\n",
    "    E = np.zeros(nk)\n",
    "    S = y[0]\n",
    "    for i in range(1, nk+1):\n",
    "        E[i-1] = y[i]\n",
    "    I = y[nk+1]\n",
    "    V_Cell = y[nk+2]\n",
    "    V_Sup = y[nk+3]\n",
    "    dY[0] = -10**betaSup*V_Sup*S-10**betaCell*V_Cell*S\n",
    "    dY[1] = 10**betaSup*V_Sup*S+10**betaCell*V_Cell*S - k*E[0]\n",
    "    for i in range(2, nk+1):\n",
    "        dY[i] = k*(E[i-2]-E[i-1])\n",
    "    dY[nk+1] = k*E[nk-1]-deltaI*I\n",
    "    dY[nk+2] = piCell*I - (D*(V_Cell/I)/(V_Cell/I+10**K))*V_Cell\n",
    "    dY[nk+3] = (D*(V_Cell/I)/(V_Cell/I+10**K))*V_Cell - gamma*V_Sup\n",
    "    \n",
    "    \n",
    "    return dY"
   ]
  },
  {
   "cell_type": "code",
   "execution_count": 4,
   "id": "40dad018",
   "metadata": {},
   "outputs": [],
   "source": [
    "def Vir_Dyn_LinDiff(y,t, piCell, D, k, deltaI, gamma, nk):\n",
    "    dY = np.zeros(nk+3);\n",
    "    E = np.zeros(nk)\n",
    "    for i in range(0, nk):\n",
    "        E[i] = y[i]\n",
    "    I = y[nk]\n",
    "    V_Cell = y[nk+1]\n",
    "    V_Sup = y[nk+2]\n",
    "    dY[0] = - k*E[0]\n",
    "    for i in range(1, nk):\n",
    "        dY[i] = k*(E[i-1]-E[i])\n",
    "    dY[nk] = k*E[nk-1]-deltaI*I\n",
    "    dY[nk+1] = piCell*I - D*V_Cell\n",
    "    dY[nk+2] = D*V_Cell - gamma*V_Sup\n",
    "    \n",
    "    \n",
    "    return dY"
   ]
  },
  {
   "cell_type": "code",
   "execution_count": 5,
   "id": "3596adc3",
   "metadata": {},
   "outputs": [],
   "source": [
    "def cost_function(params, tCell, tSup, tMax, V_data, ParamsOrder):\n",
    "    \n",
    "    init = params['E1'].value\n",
    "    for i in range(2,nk+1):\n",
    "        init = np.append(init, params['E'+str(i)].value)\n",
    "    init = np.append(init, [params['I'].value, params['VCell'].value, \n",
    "                            params['VSup'].value])\n",
    "    \n",
    "    parameters = []\n",
    "    for p in ParamsOrder:\n",
    "        parameters.append(params[p].value)\n",
    "    t = np.linspace(0, tMax, 2400)\n",
    "    \n",
    "    yCell = odeint(Vir_Dyn_LinDiff, init, t, args=tuple(parameters))\n",
    "\n",
    "    predicted_Celldata = yCell.T\n",
    "\n",
    "    ySup = odeint(Vir_Dyn_LinDiff, init, t, args=tuple(parameters))\n",
    "    predicted_Supdata = ySup.T\n",
    "    \n",
    "    indicesCell = [np.where(t>=x)[0][0] for x in tCell]\n",
    "    indicesSup = [np.where(t>=x)[0][0] for x in tSup]\n",
    "    \n",
    "    V_predicted = np.hstack((np.log10(predicted_Celldata[params['nk'].value+1,indicesCell]), \n",
    "                             np.log10(predicted_Supdata[params['nk'].value+2,indicesSup])))\n",
    "    err = (V_predicted - V_data)**2\n",
    "    \n",
    "    return err\n",
    "\n",
    "def Runmodel(params, tMax, dt, ParamsOrder):\n",
    "    init = params['E1'].value\n",
    "    for i in range(2,nk+1):\n",
    "        init = np.append(init, params['E'+str(i)].value)\n",
    "    init = np.append(init, [params['I'].value, params['VCell'].value, \n",
    "                            params['VSup'].value])\n",
    "    \n",
    "    parameters = []\n",
    "    for p in ParamsOrder:\n",
    "        parameters.append(params[p].value)\n",
    "    \n",
    "    t = np.linspace(0, tMax, dt)\n",
    "    y = odeint(Vir_Dyn_LinDiff, init, t, args=tuple(parameters))\n",
    "    \n",
    "    return y.T\n",
    "    \n",
    "def setInit(Data, id, nk, C_Tot, VCell0, VSup0):\n",
    "    \n",
    "    Init = C_Tot\n",
    "    for i in range(1,nk):\n",
    "        Init = np.append(Init, 0)\n",
    "    Init = np.append(Init, [0.0, VCell0,VSup0])\n",
    "\n",
    "    return Init\n",
    "\n",
    "def setInitList(nk):\n",
    "    InitList = 'E1'\n",
    "    for i in range(2,nk+1):\n",
    "        InitList = np.append(InitList, 'E'+ str(i))\n",
    "        \n",
    "    InitList = np.append(InitList, ['I', 'VCell', 'VSup'])\n",
    "    \n",
    "    return InitList\n",
    "    \n",
    "\n",
    "\n",
    "\n",
    "def make_params (nk, InitList, Init, ParamsOrder, ParamsGuess):\n",
    "    params = Parameters()\n",
    "\n",
    "    for i in range(0, nk+3):\n",
    "        if i == nk+1 or i== nk+2:\n",
    "            params.add(InitList[i], value = Init[i], min =0)\n",
    "        else:\n",
    "            params.add(InitList[i], value = Init[i], vary = False)\n",
    "    for p in range(0, len(ParamsOrder)):\n",
    "        if 'beta' in ParamsOrder[p] or  ParamsOrder[p]=='K':\n",
    "            params.add(ParamsOrder[p], value = ParamsGuess[p], vary = False)\n",
    "        elif  ParamsOrder[p]=='deltaI' or ParamsOrder[p]=='nk' or ParamsOrder[p]=='gamma':\n",
    "            params.add(ParamsOrder[p], value = ParamsGuess[p], vary = False)\n",
    "        else:\n",
    "            params.add(ParamsOrder[p], value = ParamsGuess[p], min = 0)\n",
    "   \n",
    "    return params"
   ]
  },
  {
   "cell_type": "code",
   "execution_count": 6,
   "id": "dd31621d",
   "metadata": {},
   "outputs": [
    {
     "name": "stdout",
     "output_type": "stream",
     "text": [
      "1\n",
      "2\n",
      "3\n",
      "4\n",
      "5\n",
      "6\n"
     ]
    }
   ],
   "source": [
    "nk=15\n",
    "C_Tot = 300000\n",
    "id = 'High'\n",
    "ParamsOrder = ['piCell', 'D', 'kappa', 'deltaI', 'gamma', 'nk']\n",
    "RESULT = []\n",
    "VCell_data = Data_Vero[(Data_Vero.ID == id) & (Data_Vero.ObsID == 'Cell')].log10AvePFU\n",
    "VSup_data = Data_Vero[(Data_Vero.ID == id) & (Data_Vero.ObsID == 'Sup')].log10AvePFU\n",
    "V_data = np.hstack((VCell_data, VSup_data))\n",
    "tSup = Data_Vero[(Data_Vero.ID == id) & (Data_Vero.ObsID == 'Sup')].time\n",
    "tCell = Data_Vero[(Data_Vero.ID == id) & (Data_Vero.ObsID == 'Cell')].time\n",
    "tMax = np.max(Data_Vero.time)\n",
    "for run in range(1,7):\n",
    "    print(run)\n",
    "    ParamsGuess = [random.uniform(10,100), random.uniform(0.001, 0.1), random.uniform(0.8, 1.4), 0.28, 0.04, nk]\n",
    "    Init = setInit(Data_Vero, id, nk, C_Tot, random.uniform(10,3000), random.uniform(10,3000))\n",
    "    InitList = setInitList(nk)\n",
    "    params = make_params (nk, InitList, Init, ParamsOrder, ParamsGuess)  \n",
    "    result = minimize(cost_function, params, args=(tCell, tSup, tMax, V_data, ParamsOrder))\n",
    "    RESULT.append(result)"
   ]
  },
  {
   "cell_type": "code",
   "execution_count": 7,
   "id": "e1f0196d",
   "metadata": {},
   "outputs": [
    {
     "name": "stdout",
     "output_type": "stream",
     "text": [
      "-60.77\n",
      "-59.14\n",
      "-60.61\n",
      "-51.26\n",
      "-49.44\n",
      "-15.41\n"
     ]
    }
   ],
   "source": [
    "for run in range(0,6):\n",
    "    print(np.round(RESULT[run].aic,2))"
   ]
  },
  {
   "cell_type": "code",
   "execution_count": 8,
   "id": "640b2de7",
   "metadata": {},
   "outputs": [
    {
     "name": "stderr",
     "output_type": "stream",
     "text": [
      "/opt/anaconda3/lib/python3.9/site-packages/lmfit/printfuncs.py:322: RuntimeWarning: invalid value encountered in scalar divide\n",
      "  spercent = f'({abs(par.stderr/par.value):.2%})'\n"
     ]
    },
    {
     "data": {
      "text/html": [
       "<h2>Fit Statistics</h2><table><tr><td>fitting method</td><td>leastsq</td><td></td></tr><tr><td># function evals</td><td>1354</td><td></td></tr><tr><td># data points</td><td>6</td><td></td></tr><tr><td># variables</td><td>5</td><td></td></tr><tr><td>chi-square</td><td> 4.5287e-05</td><td></td></tr><tr><td>reduced chi-square</td><td> 4.5287e-05</td><td></td></tr><tr><td>Akaike info crit.</td><td>-60.7654372</td><td></td></tr><tr><td>Bayesian info crit.</td><td>-61.8066398</td><td></td></tr></table><h2>Variables</h2><table><tr><th> name </th><th> value </th><th> standard error </th><th> relative error </th><th> initial value </th><th> min </th><th> max </th><th> vary </th></tr><tr><td> E1 </td><td>  300000.000 </td><td>  0.00000000 </td><td> (0.00%) </td><td> 300000.0 </td><td>        -inf </td><td>         inf </td><td> False </td></tr><tr><td> E2 </td><td>  0.00000000 </td><td>  0.00000000 </td><td> (nan%) </td><td> 0.0 </td><td>        -inf </td><td>         inf </td><td> False </td></tr><tr><td> E3 </td><td>  0.00000000 </td><td>  0.00000000 </td><td> (nan%) </td><td> 0.0 </td><td>        -inf </td><td>         inf </td><td> False </td></tr><tr><td> E4 </td><td>  0.00000000 </td><td>  0.00000000 </td><td> (nan%) </td><td> 0.0 </td><td>        -inf </td><td>         inf </td><td> False </td></tr><tr><td> E5 </td><td>  0.00000000 </td><td>  0.00000000 </td><td> (nan%) </td><td> 0.0 </td><td>        -inf </td><td>         inf </td><td> False </td></tr><tr><td> E6 </td><td>  0.00000000 </td><td>  0.00000000 </td><td> (nan%) </td><td> 0.0 </td><td>        -inf </td><td>         inf </td><td> False </td></tr><tr><td> E7 </td><td>  0.00000000 </td><td>  0.00000000 </td><td> (nan%) </td><td> 0.0 </td><td>        -inf </td><td>         inf </td><td> False </td></tr><tr><td> E8 </td><td>  0.00000000 </td><td>  0.00000000 </td><td> (nan%) </td><td> 0.0 </td><td>        -inf </td><td>         inf </td><td> False </td></tr><tr><td> E9 </td><td>  0.00000000 </td><td>  0.00000000 </td><td> (nan%) </td><td> 0.0 </td><td>        -inf </td><td>         inf </td><td> False </td></tr><tr><td> E10 </td><td>  0.00000000 </td><td>  0.00000000 </td><td> (nan%) </td><td> 0.0 </td><td>        -inf </td><td>         inf </td><td> False </td></tr><tr><td> E11 </td><td>  0.00000000 </td><td>  0.00000000 </td><td> (nan%) </td><td> 0.0 </td><td>        -inf </td><td>         inf </td><td> False </td></tr><tr><td> E12 </td><td>  0.00000000 </td><td>  0.00000000 </td><td> (nan%) </td><td> 0.0 </td><td>        -inf </td><td>         inf </td><td> False </td></tr><tr><td> E13 </td><td>  0.00000000 </td><td>  0.00000000 </td><td> (nan%) </td><td> 0.0 </td><td>        -inf </td><td>         inf </td><td> False </td></tr><tr><td> E14 </td><td>  0.00000000 </td><td>  0.00000000 </td><td> (nan%) </td><td> 0.0 </td><td>        -inf </td><td>         inf </td><td> False </td></tr><tr><td> E15 </td><td>  0.00000000 </td><td>  0.00000000 </td><td> (nan%) </td><td> 0.0 </td><td>        -inf </td><td>         inf </td><td> False </td></tr><tr><td> I </td><td>  0.00000000 </td><td>  0.00000000 </td><td> (nan%) </td><td> 0.0 </td><td>        -inf </td><td>         inf </td><td> False </td></tr><tr><td> VCell </td><td>  1.9811e-08 </td><td>  0.00679611 </td><td> (34305484.09%) </td><td> 1204.564238309575 </td><td>  0.00000000 </td><td>         inf </td><td> True </td></tr><tr><td> VSup </td><td>  3704.17038 </td><td>  823.759422 </td><td> (22.24%) </td><td> 2477.7489549457823 </td><td>  0.00000000 </td><td>         inf </td><td> True </td></tr><tr><td> piCell </td><td>  19.3809152 </td><td>  3.45522581 </td><td> (17.83%) </td><td> 10.729437941376963 </td><td>  0.00000000 </td><td>         inf </td><td> True </td></tr><tr><td> D </td><td>  0.00482364 </td><td>  7.8709e-04 </td><td> (16.32%) </td><td> 0.08846044234712809 </td><td>  0.00000000 </td><td>         inf </td><td> True </td></tr><tr><td> kappa </td><td>  0.99537239 </td><td>  0.03127659 </td><td> (3.14%) </td><td> 0.9994676549056238 </td><td>  0.00000000 </td><td>         inf </td><td> True </td></tr><tr><td> deltaI </td><td>  0.28000000 </td><td>  0.00000000 </td><td> (0.00%) </td><td> 0.28 </td><td>        -inf </td><td>         inf </td><td> False </td></tr><tr><td> gamma </td><td>  0.04000000 </td><td>  0.00000000 </td><td> (0.00%) </td><td> 0.04 </td><td>        -inf </td><td>         inf </td><td> False </td></tr><tr><td> nk </td><td>  15.0000000 </td><td>  0.00000000 </td><td> (0.00%) </td><td> 15 </td><td>        -inf </td><td>         inf </td><td> False </td></tr></table><h2>Correlations (unreported correlations are < 0.100)</h2><table><tr><td>piCell</td><td>kappa</td><td>-0.8166</td></tr><tr><td>VCell</td><td>kappa</td><td>-0.7107</td></tr><tr><td>VCell</td><td>D</td><td>0.4203</td></tr><tr><td>VCell</td><td>piCell</td><td>0.3874</td></tr><tr><td>piCell</td><td>D</td><td>-0.3714</td></tr><tr><td>VSup</td><td>D</td><td>-0.1351</td></tr><tr><td>VSup</td><td>kappa</td><td>-0.1276</td></tr><tr><td>VSup</td><td>piCell</td><td>0.1114</td></tr></table>"
      ],
      "text/plain": [
       "<lmfit.minimizer.MinimizerResult at 0x7faf6af316d0>"
      ]
     },
     "execution_count": 8,
     "metadata": {},
     "output_type": "execute_result"
    }
   ],
   "source": [
    "RESULT[0]"
   ]
  },
  {
   "cell_type": "code",
   "execution_count": 9,
   "id": "a0f81e3f",
   "metadata": {},
   "outputs": [
    {
     "data": {
      "image/png": "[encoded data removed]",
      "text/plain": [
       "<Figure size 432x288 with 2 Axes>"
      ]
     },
     "metadata": {
      "needs_background": "light"
     },
     "output_type": "display_data"
    }
   ],
   "source": [
    "for run in range(0,6):\n",
    "    y = Runmodel(RESULT[run].params, tMax, 10000, ParamsOrder)\n",
    "    plt.subplot(1,2,1)\n",
    "    if run==0:\n",
    "        plt.plot(tSup, VSup_data, 'o', color = 'k')\n",
    "    plt.plot(np.linspace(0,tMax, 10000), np.log10(y[nk+2, :]))\n",
    "#plt.xlim(5,25)\n",
    "\n",
    "    plt.subplot(1,2,2)\n",
    "    if run ==0:\n",
    "        plt.plot(tCell, VCell_data, 'o', color = 'k')\n",
    "    plt.plot(np.linspace(0,tMax, 10000), np.log10(y[nk+1, :]))\n",
    "#plt.xlim(5,25)"
   ]
  },
  {
   "cell_type": "code",
   "execution_count": 10,
   "id": "1baf3796",
   "metadata": {},
   "outputs": [],
   "source": [
    "def make_params (nk, InitList, Init, ParamsOrder, ParamsGuess):\n",
    "    params = Parameters()\n",
    "\n",
    "    for i in range(0, nk+3):\n",
    "        if  i== nk+2:\n",
    "            params.add(InitList[i], value = Init[i], min =0)\n",
    "        else:\n",
    "            params.add(InitList[i], value = Init[i], vary = False)\n",
    "    for p in range(0, len(ParamsOrder)):\n",
    "        if 'beta' in ParamsOrder[p] or  ParamsOrder[p]=='K':\n",
    "            params.add(ParamsOrder[p], value = ParamsGuess[p])\n",
    "        elif  ParamsOrder[p]=='deltaI' or ParamsOrder[p]=='nk' or ParamsOrder[p]=='gamma':\n",
    "            params.add(ParamsOrder[p], value = ParamsGuess[p], vary = False)\n",
    "        else:\n",
    "            params.add(ParamsOrder[p], value = ParamsGuess[p], min = 0)\n",
    "   \n",
    "    return params"
   ]
  },
  {
   "cell_type": "code",
   "execution_count": 11,
   "id": "45d32916",
   "metadata": {},
   "outputs": [],
   "source": [
    "nk=15\n",
    "C_Tot = 300000\n",
    "id = 'High'\n",
    "ParamsOrder = ['piCell', 'D', 'kappa', 'deltaI', 'gamma', 'nk']\n",
    "RESULT_VCell0 = []\n",
    "VCell_data = Data_Vero[(Data_Vero.ID == id) & (Data_Vero.ObsID == 'Cell')].log10AvePFU\n",
    "VSup_data = Data_Vero[(Data_Vero.ID == id) & (Data_Vero.ObsID == 'Sup')].log10AvePFU\n",
    "V_data = np.hstack((VCell_data, VSup_data))\n",
    "tSup = Data_Vero[(Data_Vero.ID == id) & (Data_Vero.ObsID == 'Sup')].time\n",
    "tCell = Data_Vero[(Data_Vero.ID == id) & (Data_Vero.ObsID == 'Cell')].time\n",
    "tMax = np.max(Data_Vero.time)\n",
    "for run in range(1,7):\n",
    "    ParamsGuess = [random.uniform(10,100), random.uniform(0.001, 0.1), random.uniform(0.8, 1.4), 0.31, 0.04, nk]\n",
    "    Init = setInit(Data_Vero, id, nk, C_Tot, 0, random.uniform(10,3000))\n",
    "    InitList = setInitList(nk)\n",
    "    params = make_params (nk, InitList, Init, ParamsOrder, ParamsGuess)  \n",
    "    result = minimize(cost_function, params, args=(tCell, tSup, tMax, V_data, ParamsOrder))\n",
    "    RESULT_VCell0.append(result)"
   ]
  },
  {
   "cell_type": "code",
   "execution_count": 12,
   "id": "87e2e3fd",
   "metadata": {},
   "outputs": [
    {
     "name": "stdout",
     "output_type": "stream",
     "text": [
      "-63.29\n",
      "-63.29\n",
      "-63.29\n",
      "-63.29\n",
      "-63.29\n",
      "-63.29\n"
     ]
    }
   ],
   "source": [
    "for run in range(0,6):\n",
    "    print(np.round(RESULT_VCell0[run].aic,2))"
   ]
  },
  {
   "cell_type": "code",
   "execution_count": 13,
   "id": "33a76649",
   "metadata": {},
   "outputs": [
    {
     "data": {
      "text/html": [
       "<h2>Fit Statistics</h2><table><tr><td>fitting method</td><td>leastsq</td><td></td></tr><tr><td># function evals</td><td>101</td><td></td></tr><tr><td># data points</td><td>6</td><td></td></tr><tr><td># variables</td><td>4</td><td></td></tr><tr><td>chi-square</td><td> 4.1466e-05</td><td></td></tr><tr><td>reduced chi-square</td><td> 2.0733e-05</td><td></td></tr><tr><td>Akaike info crit.</td><td>-63.2944101</td><td></td></tr><tr><td>Bayesian info crit.</td><td>-64.1273722</td><td></td></tr></table><h2>Variables</h2><table><tr><th> name </th><th> value </th><th> standard error </th><th> relative error </th><th> initial value </th><th> min </th><th> max </th><th> vary </th></tr><tr><td> E1 </td><td>  300000.000 </td><td>  0.00000000 </td><td> (0.00%) </td><td> 300000.0 </td><td>        -inf </td><td>         inf </td><td> False </td></tr><tr><td> E2 </td><td>  0.00000000 </td><td>  0.00000000 </td><td> (nan%) </td><td> 0.0 </td><td>        -inf </td><td>         inf </td><td> False </td></tr><tr><td> E3 </td><td>  0.00000000 </td><td>  0.00000000 </td><td> (nan%) </td><td> 0.0 </td><td>        -inf </td><td>         inf </td><td> False </td></tr><tr><td> E4 </td><td>  0.00000000 </td><td>  0.00000000 </td><td> (nan%) </td><td> 0.0 </td><td>        -inf </td><td>         inf </td><td> False </td></tr><tr><td> E5 </td><td>  0.00000000 </td><td>  0.00000000 </td><td> (nan%) </td><td> 0.0 </td><td>        -inf </td><td>         inf </td><td> False </td></tr><tr><td> E6 </td><td>  0.00000000 </td><td>  0.00000000 </td><td> (nan%) </td><td> 0.0 </td><td>        -inf </td><td>         inf </td><td> False </td></tr><tr><td> E7 </td><td>  0.00000000 </td><td>  0.00000000 </td><td> (nan%) </td><td> 0.0 </td><td>        -inf </td><td>         inf </td><td> False </td></tr><tr><td> E8 </td><td>  0.00000000 </td><td>  0.00000000 </td><td> (nan%) </td><td> 0.0 </td><td>        -inf </td><td>         inf </td><td> False </td></tr><tr><td> E9 </td><td>  0.00000000 </td><td>  0.00000000 </td><td> (nan%) </td><td> 0.0 </td><td>        -inf </td><td>         inf </td><td> False </td></tr><tr><td> E10 </td><td>  0.00000000 </td><td>  0.00000000 </td><td> (nan%) </td><td> 0.0 </td><td>        -inf </td><td>         inf </td><td> False </td></tr><tr><td> E11 </td><td>  0.00000000 </td><td>  0.00000000 </td><td> (nan%) </td><td> 0.0 </td><td>        -inf </td><td>         inf </td><td> False </td></tr><tr><td> E12 </td><td>  0.00000000 </td><td>  0.00000000 </td><td> (nan%) </td><td> 0.0 </td><td>        -inf </td><td>         inf </td><td> False </td></tr><tr><td> E13 </td><td>  0.00000000 </td><td>  0.00000000 </td><td> (nan%) </td><td> 0.0 </td><td>        -inf </td><td>         inf </td><td> False </td></tr><tr><td> E14 </td><td>  0.00000000 </td><td>  0.00000000 </td><td> (nan%) </td><td> 0.0 </td><td>        -inf </td><td>         inf </td><td> False </td></tr><tr><td> E15 </td><td>  0.00000000 </td><td>  0.00000000 </td><td> (nan%) </td><td> 0.0 </td><td>        -inf </td><td>         inf </td><td> False </td></tr><tr><td> I </td><td>  0.00000000 </td><td>  0.00000000 </td><td> (nan%) </td><td> 0.0 </td><td>        -inf </td><td>         inf </td><td> False </td></tr><tr><td> VCell </td><td>  0.00000000 </td><td>  0.00000000 </td><td> (nan%) </td><td> 0.0 </td><td>        -inf </td><td>         inf </td><td> False </td></tr><tr><td> VSup </td><td>  3706.06385 </td><td>  553.349585 </td><td> (14.93%) </td><td> 720.4061357392553 </td><td>  0.00000000 </td><td>         inf </td><td> True </td></tr><tr><td> piCell </td><td>  21.2503779 </td><td>  2.50938200 </td><td> (11.81%) </td><td> 69.61976744626858 </td><td>  0.00000000 </td><td>         inf </td><td> True </td></tr><tr><td> D </td><td>  0.00477190 </td><td>  4.9611e-04 </td><td> (10.40%) </td><td> 0.059949441558911076 </td><td>  0.00000000 </td><td>         inf </td><td> True </td></tr><tr><td> kappa </td><td>  0.98694672 </td><td>  0.01531179 </td><td> (1.55%) </td><td> 1.024808690503876 </td><td>  0.00000000 </td><td>         inf </td><td> True </td></tr><tr><td> deltaI </td><td>  0.31000000 </td><td>  0.00000000 </td><td> (0.00%) </td><td> 0.31 </td><td>        -inf </td><td>         inf </td><td> False </td></tr><tr><td> gamma </td><td>  0.04000000 </td><td>  0.00000000 </td><td> (0.00%) </td><td> 0.04 </td><td>        -inf </td><td>         inf </td><td> False </td></tr><tr><td> nk </td><td>  15.0000000 </td><td>  0.00000000 </td><td> (0.00%) </td><td> 15 </td><td>        -inf </td><td>         inf </td><td> False </td></tr></table><h2>Correlations (unreported correlations are < 0.100)</h2><table><tr><td>piCell</td><td>kappa</td><td>-0.8297</td></tr><tr><td>piCell</td><td>D</td><td>-0.6668</td></tr><tr><td>D</td><td>kappa</td><td>0.3758</td></tr><tr><td>VSup</td><td>D</td><td>-0.1802</td></tr><tr><td>VSup</td><td>kappa</td><td>-0.1160</td></tr></table>"
      ],
      "text/plain": [
       "<lmfit.minimizer.MinimizerResult at 0x7fcce047db80>"
      ]
     },
     "execution_count": 13,
     "metadata": {},
     "output_type": "execute_result"
    }
   ],
   "source": [
    "RESULT_VCell0[0]"
   ]
  },
  {
   "cell_type": "code",
   "execution_count": 15,
   "id": "78b45502",
   "metadata": {},
   "outputs": [
    {
     "data": {
      "image/png": "[encoded data removed]",
      "text/plain": [
       "<Figure size 432x288 with 2 Axes>"
      ]
     },
     "metadata": {
      "needs_background": "light"
     },
     "output_type": "display_data"
    }
   ],
   "source": [
    "for run in range(0,6):\n",
    "    y = Runmodel(RESULT[run].params, tMax, 10000, ParamsOrder)\n",
    "    plt.subplot(1,2,1)\n",
    "    if run==0:\n",
    "        plt.plot(tSup, VSup_data, 'o', color = 'k')\n",
    "    plt.plot(np.linspace(0,tMax, 10000), np.log10(y[nk+2, :]))\n",
    "#plt.xlim(5,25)\n",
    "\n",
    "    plt.subplot(1,2,2)\n",
    "    if run ==0:\n",
    "        plt.plot(tCell, VCell_data, 'o', color = 'k')\n",
    "    plt.plot(np.linspace(0,tMax, 10000), np.log10(y[nk+1, :]))\n",
    "#plt.xlim(5,25)"
   ]
  },
  {
   "cell_type": "code",
   "execution_count": 17,
   "id": "96352213",
   "metadata": {},
   "outputs": [
    {
     "data": {
      "image/png": "[encoded data removed]",
      "text/plain": [
       "<Figure size 720x288 with 2 Axes>"
      ]
     },
     "metadata": {
      "needs_background": "light"
     },
     "output_type": "display_data"
    }
   ],
   "source": [
    "fig = plt.figure(figsize = (10,4))\n",
    "plt.rcParams.update({'font.size': 15})\n",
    "N=10000\n",
    "id = 'High'\n",
    "t_Celldata = Data_Vero[(Data_Vero.ID == id) & (Data_Vero.ObsID == 'Cell')].time\n",
    "temp = Data_Vero[(Data_Vero.ID == id) & (Data_Vero.ObsID == 'Cell')].log10AvePFU\n",
    "y_Cell_1_PFU = Data_Vero[(Data_Vero.ID == id) & (Data_Vero.ObsID == 'Cell')].PFU_1\n",
    "y_Cell_2_PFU = Data_Vero[(Data_Vero.ID == id) & (Data_Vero.ObsID == 'Cell')].PFU_2\n",
    "y_Cell_3_PFU = Data_Vero[(Data_Vero.ID == id) & (Data_Vero.ObsID == 'Cell')].PFU_3\n",
    "y_Celldata = [float(y) for y in temp]\n",
    "    #print(temp)\n",
    "t_Supdata = Data_Vero[(Data_Vero.ID == id) & (Data_Vero.ObsID == 'Sup')].time\n",
    "temp = Data_Vero[(Data_Vero.ID == id) & (Data_Vero.ObsID == 'Sup')].log10AvePFU\n",
    "y_Sup_1_PFU = Data_Vero[(Data_Vero.ID == id) & (Data_Vero.ObsID == 'Sup')].PFU_1\n",
    "y_Sup_2_PFU = Data_Vero[(Data_Vero.ID == id) & (Data_Vero.ObsID == 'Sup')].PFU_2\n",
    "y_Sup_3_PFU = Data_Vero[(Data_Vero.ID == id) & (Data_Vero.ObsID == 'Sup')].PFU_3\n",
    "y_Supdata = [float(y) for y in temp]    \n",
    "\n",
    "t = np.linspace(0, max(Data_Vero.time), N)\n",
    "plt.subplot(1,2,1)\n",
    "plt.plot(t_Celldata.values, np.log10(y_Cell_1_PFU),'o', alpha = 0.2,  color = 'black')\n",
    "plt.plot(t_Celldata.values, np.log10(y_Cell_2_PFU),'o', alpha = 0.2,  color = 'black')\n",
    "plt.plot(t_Celldata.values, np.log10(y_Cell_3_PFU),'o', alpha = 0.2,  color = 'black')\n",
    "plt.plot(t_Celldata.values, y_Celldata,'o', color = 'black')\n",
    "\n",
    "plt.plot(t,np.log10(y[nk+1, :]), linewidth = 2)\n",
    "\n",
    "\n",
    "\n",
    "plt.ylabel('$log_{10}(V_{Cell})$')\n",
    "plt.ylim([3, 8])\n",
    "plt.subplot(1,2,2)\n",
    "plt.plot(t_Supdata.values, np.log10(y_Sup_1_PFU),'o', alpha = 0.2,  color = 'black')\n",
    "plt.plot(t_Supdata.values, np.log10(y_Sup_2_PFU),'o', alpha = 0.2,  color = 'black')\n",
    "plt.plot(t_Supdata.values, np.log10(y_Sup_3_PFU),'o', alpha = 0.2,  color = 'black')\n",
    "plt.plot(t_Supdata.values, y_Supdata,'o', color = 'black', label = 'PFU data')\n",
    "\n",
    "plt.plot(t,np.log10(y[nk+2, :]),linewidth = 2)\n",
    "\n",
    "\n",
    "\n",
    "plt.ylabel('$log_{10}(V_{Sup})$')\n",
    "        \n",
    "\n",
    "plt.legend()\n",
    "plt.ylim([3, 8])\n",
    "plt.tight_layout()"
   ]
  },
  {
   "cell_type": "code",
   "execution_count": 18,
   "id": "3e165c0f",
   "metadata": {},
   "outputs": [],
   "source": [
    "def make_params (nk, InitList, Init, ParamsOrder, ParamsGuess):\n",
    "    params = Parameters()\n",
    "\n",
    "    for i in range(0, nk+3):\n",
    "        if  i== nk+2:\n",
    "            params.add(InitList[i], value = Init[i], min =0)\n",
    "        else:\n",
    "            params.add(InitList[i], value = Init[i], vary = False)\n",
    "    for p in range(0, len(ParamsOrder)):\n",
    "        if 'beta' in ParamsOrder[p] or  ParamsOrder[p]=='K':\n",
    "            params.add(ParamsOrder[p], value = ParamsGuess[p])\n",
    "        elif  ParamsOrder[p]=='deltaI' or ParamsOrder[p]=='nk' or ParamsOrder[p]=='gamma' or ParamsOrder[p]=='kappa':\n",
    "            params.add(ParamsOrder[p], value = ParamsGuess[p], vary = False)\n",
    "        else:\n",
    "            params.add(ParamsOrder[p], value = ParamsGuess[p], min = 0)\n",
    "   \n",
    "    return params"
   ]
  },
  {
   "cell_type": "code",
   "execution_count": 19,
   "id": "e423de84",
   "metadata": {},
   "outputs": [],
   "source": [
    "nk=15\n",
    "C_Tot = 300000\n",
    "id = 'High'\n",
    "ParamsOrder = ['piCell', 'D', 'kappa', 'deltaI', 'gamma', 'nk']\n",
    "RESULT_VCell0_kappafixed = []\n",
    "VCell_data = Data_Vero[(Data_Vero.ID == id) & (Data_Vero.ObsID == 'Cell')].log10AvePFU\n",
    "VSup_data = Data_Vero[(Data_Vero.ID == id) & (Data_Vero.ObsID == 'Sup')].log10AvePFU\n",
    "V_data = np.hstack((VCell_data, VSup_data))\n",
    "tSup = Data_Vero[(Data_Vero.ID == id) & (Data_Vero.ObsID == 'Sup')].time\n",
    "tCell = Data_Vero[(Data_Vero.ID == id) & (Data_Vero.ObsID == 'Cell')].time\n",
    "tMax = np.max(Data_Vero.time)\n",
    "for run in range(1,7):\n",
    "    ParamsGuess = [random.uniform(10,100), random.uniform(0.001, 0.1), 1.37, 0.29, 0.04, nk]\n",
    "    Init = setInit(Data_Vero, id, nk, C_Tot, 0, random.uniform(10,3000))\n",
    "    InitList = setInitList(nk)\n",
    "    params = make_params (nk, InitList, Init, ParamsOrder, ParamsGuess)  \n",
    "    result = minimize(cost_function, params, args=(tCell, tSup, tMax, V_data, ParamsOrder))\n",
    "    RESULT_VCell0_kappafixed.append(result)"
   ]
  },
  {
   "cell_type": "code",
   "execution_count": 20,
   "id": "f49b2ddc",
   "metadata": {},
   "outputs": [
    {
     "name": "stdout",
     "output_type": "stream",
     "text": [
      "-10.21\n",
      "-10.21\n",
      "-10.21\n",
      "-10.21\n",
      "-10.21\n",
      "-10.21\n"
     ]
    }
   ],
   "source": [
    "for run in range(0,6):\n",
    "    print(np.round(RESULT_VCell0_kappafixed[run].aic,2))"
   ]
  },
  {
   "cell_type": "code",
   "execution_count": 21,
   "id": "ccb8f46a",
   "metadata": {},
   "outputs": [
    {
     "data": {
      "text/html": [
       "<h2>Fit Statistics</h2><table><tr><td>fitting method</td><td>leastsq</td><td></td></tr><tr><td># function evals</td><td>87</td><td></td></tr><tr><td># data points</td><td>6</td><td></td></tr><tr><td># variables</td><td>3</td><td></td></tr><tr><td>chi-square</td><td> 0.40276564</td><td></td></tr><tr><td>reduced chi-square</td><td> 0.13425521</td><td></td></tr><tr><td>Akaike info crit.</td><td>-10.2069594</td><td></td></tr><tr><td>Bayesian info crit.</td><td>-10.8316810</td><td></td></tr></table><h2>Variables</h2><table><tr><th> name </th><th> value </th><th> standard error </th><th> relative error </th><th> initial value </th><th> min </th><th> max </th><th> vary </th></tr><tr><td> E1 </td><td>  300000.000 </td><td>  0.00000000 </td><td> (0.00%) </td><td> 300000.0 </td><td>        -inf </td><td>         inf </td><td> False </td></tr><tr><td> E2 </td><td>  0.00000000 </td><td>  0.00000000 </td><td> (nan%) </td><td> 0.0 </td><td>        -inf </td><td>         inf </td><td> False </td></tr><tr><td> E3 </td><td>  0.00000000 </td><td>  0.00000000 </td><td> (nan%) </td><td> 0.0 </td><td>        -inf </td><td>         inf </td><td> False </td></tr><tr><td> E4 </td><td>  0.00000000 </td><td>  0.00000000 </td><td> (nan%) </td><td> 0.0 </td><td>        -inf </td><td>         inf </td><td> False </td></tr><tr><td> E5 </td><td>  0.00000000 </td><td>  0.00000000 </td><td> (nan%) </td><td> 0.0 </td><td>        -inf </td><td>         inf </td><td> False </td></tr><tr><td> E6 </td><td>  0.00000000 </td><td>  0.00000000 </td><td> (nan%) </td><td> 0.0 </td><td>        -inf </td><td>         inf </td><td> False </td></tr><tr><td> E7 </td><td>  0.00000000 </td><td>  0.00000000 </td><td> (nan%) </td><td> 0.0 </td><td>        -inf </td><td>         inf </td><td> False </td></tr><tr><td> E8 </td><td>  0.00000000 </td><td>  0.00000000 </td><td> (nan%) </td><td> 0.0 </td><td>        -inf </td><td>         inf </td><td> False </td></tr><tr><td> E9 </td><td>  0.00000000 </td><td>  0.00000000 </td><td> (nan%) </td><td> 0.0 </td><td>        -inf </td><td>         inf </td><td> False </td></tr><tr><td> E10 </td><td>  0.00000000 </td><td>  0.00000000 </td><td> (nan%) </td><td> 0.0 </td><td>        -inf </td><td>         inf </td><td> False </td></tr><tr><td> E11 </td><td>  0.00000000 </td><td>  0.00000000 </td><td> (nan%) </td><td> 0.0 </td><td>        -inf </td><td>         inf </td><td> False </td></tr><tr><td> E12 </td><td>  0.00000000 </td><td>  0.00000000 </td><td> (nan%) </td><td> 0.0 </td><td>        -inf </td><td>         inf </td><td> False </td></tr><tr><td> E13 </td><td>  0.00000000 </td><td>  0.00000000 </td><td> (nan%) </td><td> 0.0 </td><td>        -inf </td><td>         inf </td><td> False </td></tr><tr><td> E14 </td><td>  0.00000000 </td><td>  0.00000000 </td><td> (nan%) </td><td> 0.0 </td><td>        -inf </td><td>         inf </td><td> False </td></tr><tr><td> E15 </td><td>  0.00000000 </td><td>  0.00000000 </td><td> (nan%) </td><td> 0.0 </td><td>        -inf </td><td>         inf </td><td> False </td></tr><tr><td> I </td><td>  0.00000000 </td><td>  0.00000000 </td><td> (nan%) </td><td> 0.0 </td><td>        -inf </td><td>         inf </td><td> False </td></tr><tr><td> VCell </td><td>  0.00000000 </td><td>  0.00000000 </td><td> (nan%) </td><td> 0.0 </td><td>        -inf </td><td>         inf </td><td> False </td></tr><tr><td> VSup </td><td>  3039.00261 </td><td>  29900.1209 </td><td> (983.88%) </td><td> 1588.1799472515079 </td><td>  0.00000000 </td><td>         inf </td><td> True </td></tr><tr><td> piCell </td><td>  4.40528125 </td><td>  1.90453185 </td><td> (43.23%) </td><td> 30.262378066598423 </td><td>  0.00000000 </td><td>         inf </td><td> True </td></tr><tr><td> D </td><td>  0.00665232 </td><td>  0.01000692 </td><td> (150.43%) </td><td> 0.04807146558286298 </td><td>  0.00000000 </td><td>         inf </td><td> True </td></tr><tr><td> kappa </td><td>  1.37000000 </td><td>  0.00000000 </td><td> (0.00%) </td><td> 1.37 </td><td>        -inf </td><td>         inf </td><td> False </td></tr><tr><td> deltaI </td><td>  0.29000000 </td><td>  0.00000000 </td><td> (0.00%) </td><td> 0.29 </td><td>        -inf </td><td>         inf </td><td> False </td></tr><tr><td> gamma </td><td>  0.04000000 </td><td>  0.00000000 </td><td> (0.00%) </td><td> 0.04 </td><td>        -inf </td><td>         inf </td><td> False </td></tr><tr><td> nk </td><td>  15.0000000 </td><td>  0.00000000 </td><td> (0.00%) </td><td> 15 </td><td>        -inf </td><td>         inf </td><td> False </td></tr></table><h2>Correlations (unreported correlations are < 0.100)</h2><table><tr><td>piCell</td><td>D</td><td>-0.1826</td></tr><tr><td>VSup</td><td>D</td><td>-0.1317</td></tr></table>"
      ],
      "text/plain": [
       "<lmfit.minimizer.MinimizerResult at 0x7fcd60fedd30>"
      ]
     },
     "execution_count": 21,
     "metadata": {},
     "output_type": "execute_result"
    }
   ],
   "source": [
    "RESULT_VCell0_kappafixed[1]"
   ]
  },
  {
   "cell_type": "code",
   "execution_count": 23,
   "id": "764e39ad",
   "metadata": {},
   "outputs": [
    {
     "name": "stderr",
     "output_type": "stream",
     "text": [
      "/var/folders/z2/v4k5h92d3x34xw1wf5f8b_nh0000gp/T/ipykernel_4839/2551227775.py:12: RuntimeWarning: divide by zero encountered in log10\n",
      "  plt.plot(np.linspace(0,tMax, 10000), np.log10(y[nk+1, :]))\n",
      "/var/folders/z2/v4k5h92d3x34xw1wf5f8b_nh0000gp/T/ipykernel_4839/2551227775.py:12: RuntimeWarning: divide by zero encountered in log10\n",
      "  plt.plot(np.linspace(0,tMax, 10000), np.log10(y[nk+1, :]))\n",
      "/var/folders/z2/v4k5h92d3x34xw1wf5f8b_nh0000gp/T/ipykernel_4839/2551227775.py:12: RuntimeWarning: divide by zero encountered in log10\n",
      "  plt.plot(np.linspace(0,tMax, 10000), np.log10(y[nk+1, :]))\n",
      "/var/folders/z2/v4k5h92d3x34xw1wf5f8b_nh0000gp/T/ipykernel_4839/2551227775.py:12: RuntimeWarning: divide by zero encountered in log10\n",
      "  plt.plot(np.linspace(0,tMax, 10000), np.log10(y[nk+1, :]))\n",
      "/var/folders/z2/v4k5h92d3x34xw1wf5f8b_nh0000gp/T/ipykernel_4839/2551227775.py:12: RuntimeWarning: divide by zero encountered in log10\n",
      "  plt.plot(np.linspace(0,tMax, 10000), np.log10(y[nk+1, :]))\n",
      "/var/folders/z2/v4k5h92d3x34xw1wf5f8b_nh0000gp/T/ipykernel_4839/2551227775.py:12: RuntimeWarning: divide by zero encountered in log10\n",
      "  plt.plot(np.linspace(0,tMax, 10000), np.log10(y[nk+1, :]))\n"
     ]
    },
    {
     "data": {
      "image/png": "[encoded data removed]",
      "text/plain": [
       "<Figure size 432x288 with 2 Axes>"
      ]
     },
     "metadata": {
      "needs_background": "light"
     },
     "output_type": "display_data"
    }
   ],
   "source": [
    "for run in range(0,6):\n",
    "    y = Runmodel(RESULT_VCell0_kappafixed[run].params, tMax, 10000, ParamsOrder)\n",
    "    plt.subplot(1,2,1)\n",
    "    if run==0:\n",
    "        plt.plot(tSup, VSup_data, 'o', color = 'k')\n",
    "    plt.plot(np.linspace(0,tMax, 10000), np.log10(y[nk+2, :]))\n",
    "    plt.ylim(3,8)\n",
    "\n",
    "    plt.subplot(1,2,2)\n",
    "    if run ==0:\n",
    "        plt.plot(tCell, VCell_data, 'o', color = 'k')\n",
    "    plt.plot(np.linspace(0,tMax, 10000), np.log10(y[nk+1, :]))\n",
    "    plt.ylim(3,8)"
   ]
  },
  {
   "cell_type": "code",
   "execution_count": null,
   "id": "1b9e3fa7",
   "metadata": {},
   "outputs": [],
   "source": []
  }
 ],
 "metadata": {
  "kernelspec": {
   "display_name": "Python [conda env:base] *",
   "language": "python",
   "name": "conda-base-py"
  },
  "language_info": {
   "codemirror_mode": {
    "name": "ipython",
    "version": 3
   },
   "file_extension": ".py",
   "mimetype": "text/x-python",
   "name": "python",
   "nbconvert_exporter": "python",
   "pygments_lexer": "ipython3",
   "version": "3.12.7"
  }
 },
 "nbformat": 4,
 "nbformat_minor": 5
}
